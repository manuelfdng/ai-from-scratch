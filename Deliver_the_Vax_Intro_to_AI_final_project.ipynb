{
  "nbformat": 4,
  "nbformat_minor": 0,
  "metadata": {
    "colab": {
      "name": "Deliver the Vax - Intro to AI final project",
      "provenance": [],
      "collapsed_sections": [],
      "include_colab_link": true
    },
    "kernelspec": {
      "name": "python3",
      "display_name": "Python 3"
    },
    "language_info": {
      "name": "python"
    }
  },
  "cells": [
    {
      "cell_type": "markdown",
      "metadata": {
        "id": "view-in-github",
        "colab_type": "text"
      },
      "source": [
        "<a href=\"https://colab.research.google.com/github/manuelfdng/ml-from-scratch/blob/main/Deliver_the_Vax_Intro_to_AI_final_project.ipynb\" target=\"_parent\"><img src=\"https://colab.research.google.com/assets/colab-badge.svg\" alt=\"Open In Colab\"/></a>"
      ]
    },
    {
      "cell_type": "markdown",
      "metadata": {
        "id": "ITMbE56PhDrI"
      },
      "source": [
        "# Deliver the Vax\n",
        "## A game created by Manuel Ng and Robin Ramos\n",
        "\n",
        "This game was made entirely with Python 3.6.9 🐍\n",
        "\n",
        "This notebook demonstrates the use of **Breadth First Search** and **Depth First Search** to traverse a maze. The maze is randomly generated with a variable amount of blocks within the maze. \n",
        "\n",
        "The size of the maze and the number of blocks within the maze can both be specified. Moreover, by default, the notebook chooses a random initial point. However, there are directions below detailing how to choose a custom initial point.\n",
        "\n",
        "We hope you enjoy the game as much as we've enjoyed making it! 😄\n",
        "\n"
      ]
    },
    {
      "cell_type": "markdown",
      "metadata": {
        "id": "ddHLHx0kOOZB"
      },
      "source": [
        "## Configuration\n",
        "\n",
        "Specify board size, number of blocks, and initial location coordinates in the code below. To let the program choose a random initial location, set both init_loc_hz and init_loc_vt to None.\n",
        "\n",
        "For instance:\n",
        "\n",
        "```\n",
        "board_size = 3\n",
        "num_blocks = 2\n",
        "init_loc_hz = None\n",
        "init_loc_vt = None\n",
        "```\n",
        "\n"
      ]
    },
    {
      "cell_type": "code",
      "metadata": {
        "id": "WKkABeVcNbIR"
      },
      "source": [
        "board_size = 3\n",
        "num_blocks = 2\n",
        "init_loc_hz = None\n",
        "init_loc_vt = None"
      ],
      "execution_count": null,
      "outputs": []
    },
    {
      "cell_type": "markdown",
      "metadata": {
        "id": "AN0g6kBfq9Hn"
      },
      "source": [
        "## Making the Maze"
      ]
    },
    {
      "cell_type": "code",
      "metadata": {
        "id": "qgUZr3H2hD7Y"
      },
      "source": [
        "import random\n",
        "import pandas as pd\n",
        "\n",
        "#Make Board and Graph\n",
        "board = []\n",
        "graph = []\n",
        "\n",
        "vax_vt, vax_hz = random.randint(0, board_size-1), random.randint(0, board_size-1)\n",
        "\n",
        "def init_tables():\n",
        "  for i in range(board_size):\n",
        "    new_list_board = []\n",
        "    new_list_graph = []\n",
        "\n",
        "    for j in range(board_size):\n",
        "      new_list_board.append(0)\n",
        "      new_list_graph.append([])\n",
        "    board.append(new_list_board)\n",
        "    graph.append(new_list_graph)\n",
        "\n",
        "def convert_to_pandas(graph, board):\n",
        "  graph_df = pd.DataFrame(graph)\n",
        "  board_df = pd.DataFrame(board)\n",
        "  return graph_df, board_df\n",
        "\n",
        "init_tables()"
      ],
      "execution_count": null,
      "outputs": []
    },
    {
      "cell_type": "code",
      "metadata": {
        "id": "BHtXUVpRhhCr"
      },
      "source": [
        "while True:\n",
        "  ident = False\n",
        "  block_hz = [] #horizontal coordinate of block\n",
        "  block_vt = [] #vertical coordinate of block\n",
        "\n",
        "  for i in range(num_blocks):\n",
        "      block_hz.append(random.randint(0, board_size-1))\n",
        "      block_vt.append(random.randint(0, board_size-1))\n",
        "  \n",
        "  for i, j in zip(block_hz, block_vt):\n",
        "    if i == vax_hz and j == vax_vt:\n",
        "      ident = True\n",
        "      break\n",
        "\n",
        "  if ident == True:\n",
        "    continue\n",
        "  else:\n",
        "    break"
      ],
      "execution_count": null,
      "outputs": []
    },
    {
      "cell_type": "code",
      "metadata": {
        "id": "NZnGVoYXhhFR"
      },
      "source": [
        "def init_board_notation():\n",
        "  for i, j in zip(block_hz, block_vt):\n",
        "    board[i][j] = 1\n",
        "\n",
        "  board[vax_vt][vax_hz] = 2 #vax loc is labeled\n",
        "\n",
        "init_board_notation()"
      ],
      "execution_count": null,
      "outputs": []
    },
    {
      "cell_type": "code",
      "metadata": {
        "id": "wPRJh_YQhhJ-"
      },
      "source": [
        "def init_graph_notation():\n",
        "  for i in range(board_size):\n",
        "    for j in range(board_size):\n",
        "\n",
        "      if i != 0:\n",
        "        if board[i-1][j] == 1:\n",
        "          graph[i][j].append(\"UP\") \n",
        "      else:\n",
        "        graph[i][j].append(\"UP\") \n",
        "\n",
        "      if i != board_size-1:\n",
        "        if board[i+1][j] == 1:\n",
        "          graph[i][j].append(\"DOWN\")\n",
        "      else:\n",
        "        graph[i][j].append(\"DOWN\")\n",
        "\n",
        "      if j != 0:\n",
        "        if board[i][j-1] == 1:\n",
        "          graph[i][j].append(\"LEFT\")\n",
        "      else:\n",
        "        graph[i][j].append(\"LEFT\")\n",
        "\n",
        "      if j != board_size-1:\n",
        "        if board[i][j+1] == 1:\n",
        "          graph[i][j].append(\"RIGHT\")\n",
        "      else:\n",
        "        graph[i][j].append(\"RIGHT\")\n",
        "\n",
        "  graph[vax_vt][vax_hz].append(\"VAX!\")\n",
        "\n",
        "init_graph_notation()"
      ],
      "execution_count": null,
      "outputs": []
    },
    {
      "cell_type": "markdown",
      "metadata": {
        "id": "kf8cdmOLrOGG"
      },
      "source": [
        "## Visualizing the Maze"
      ]
    },
    {
      "cell_type": "code",
      "metadata": {
        "id": "dx2yjtMKhhMb"
      },
      "source": [
        "graph_df, board_df = convert_to_pandas(graph, board)"
      ],
      "execution_count": null,
      "outputs": []
    },
    {
      "cell_type": "code",
      "metadata": {
        "colab": {
          "base_uri": "https://localhost:8080/",
          "height": 141
        },
        "id": "5Veg-UMyjt5Y",
        "outputId": "545a5088-2280-4722-b690-cb5b12957281"
      },
      "source": [
        "board_df"
      ],
      "execution_count": null,
      "outputs": [
        {
          "output_type": "execute_result",
          "data": {
            "text/html": [
              "<div>\n",
              "<style scoped>\n",
              "    .dataframe tbody tr th:only-of-type {\n",
              "        vertical-align: middle;\n",
              "    }\n",
              "\n",
              "    .dataframe tbody tr th {\n",
              "        vertical-align: top;\n",
              "    }\n",
              "\n",
              "    .dataframe thead th {\n",
              "        text-align: right;\n",
              "    }\n",
              "</style>\n",
              "<table border=\"1\" class=\"dataframe\">\n",
              "  <thead>\n",
              "    <tr style=\"text-align: right;\">\n",
              "      <th></th>\n",
              "      <th>0</th>\n",
              "      <th>1</th>\n",
              "      <th>2</th>\n",
              "    </tr>\n",
              "  </thead>\n",
              "  <tbody>\n",
              "    <tr>\n",
              "      <th>0</th>\n",
              "      <td>0</td>\n",
              "      <td>1</td>\n",
              "      <td>0</td>\n",
              "    </tr>\n",
              "    <tr>\n",
              "      <th>1</th>\n",
              "      <td>0</td>\n",
              "      <td>0</td>\n",
              "      <td>0</td>\n",
              "    </tr>\n",
              "    <tr>\n",
              "      <th>2</th>\n",
              "      <td>1</td>\n",
              "      <td>0</td>\n",
              "      <td>2</td>\n",
              "    </tr>\n",
              "  </tbody>\n",
              "</table>\n",
              "</div>"
            ],
            "text/plain": [
              "   0  1  2\n",
              "0  0  1  0\n",
              "1  0  0  0\n",
              "2  1  0  2"
            ]
          },
          "metadata": {
            "tags": []
          },
          "execution_count": 7
        }
      ]
    },
    {
      "cell_type": "code",
      "metadata": {
        "colab": {
          "base_uri": "https://localhost:8080/",
          "height": 141
        },
        "id": "GqnO7yEhjt8l",
        "outputId": "2fcf0456-ea2a-463a-b433-dd0bd390bc8b"
      },
      "source": [
        "graph_df"
      ],
      "execution_count": null,
      "outputs": [
        {
          "output_type": "execute_result",
          "data": {
            "text/html": [
              "<div>\n",
              "<style scoped>\n",
              "    .dataframe tbody tr th:only-of-type {\n",
              "        vertical-align: middle;\n",
              "    }\n",
              "\n",
              "    .dataframe tbody tr th {\n",
              "        vertical-align: top;\n",
              "    }\n",
              "\n",
              "    .dataframe thead th {\n",
              "        text-align: right;\n",
              "    }\n",
              "</style>\n",
              "<table border=\"1\" class=\"dataframe\">\n",
              "  <thead>\n",
              "    <tr style=\"text-align: right;\">\n",
              "      <th></th>\n",
              "      <th>0</th>\n",
              "      <th>1</th>\n",
              "      <th>2</th>\n",
              "    </tr>\n",
              "  </thead>\n",
              "  <tbody>\n",
              "    <tr>\n",
              "      <th>0</th>\n",
              "      <td>[UP, LEFT, RIGHT]</td>\n",
              "      <td>[UP]</td>\n",
              "      <td>[UP, LEFT, RIGHT]</td>\n",
              "    </tr>\n",
              "    <tr>\n",
              "      <th>1</th>\n",
              "      <td>[DOWN, LEFT]</td>\n",
              "      <td>[UP]</td>\n",
              "      <td>[RIGHT]</td>\n",
              "    </tr>\n",
              "    <tr>\n",
              "      <th>2</th>\n",
              "      <td>[DOWN, LEFT]</td>\n",
              "      <td>[DOWN, LEFT]</td>\n",
              "      <td>[DOWN, RIGHT, VAX!]</td>\n",
              "    </tr>\n",
              "  </tbody>\n",
              "</table>\n",
              "</div>"
            ],
            "text/plain": [
              "                   0             1                    2\n",
              "0  [UP, LEFT, RIGHT]          [UP]    [UP, LEFT, RIGHT]\n",
              "1       [DOWN, LEFT]          [UP]              [RIGHT]\n",
              "2       [DOWN, LEFT]  [DOWN, LEFT]  [DOWN, RIGHT, VAX!]"
            ]
          },
          "metadata": {
            "tags": []
          },
          "execution_count": 8
        }
      ]
    },
    {
      "cell_type": "markdown",
      "metadata": {
        "id": "pCduFjFfrTTH"
      },
      "source": [
        "## Randomly generating an initial point\n",
        "\n"
      ]
    },
    {
      "cell_type": "code",
      "metadata": {
        "id": "tI31j6_OtaC3"
      },
      "source": [
        "if (init_loc_hz is None) and (init_loc_vt is None):\n",
        "  while True:\n",
        "    init_loc_hz, init_loc_vt = random.randint(0, board_size-1), random.randint(0, board_size-1)\n",
        "\n",
        "    # only proceed if initial location does not have the same coordinates as any of the blocks\n",
        "    if init_loc_hz in block_hz:\n",
        "      if block_vt[block_hz.index(init_loc_hz)] == init_loc_vt:\n",
        "        continue\n",
        "    else:\n",
        "      break"
      ],
      "execution_count": null,
      "outputs": []
    },
    {
      "cell_type": "markdown",
      "metadata": {
        "id": "mmkKv9FnsRTD"
      },
      "source": [
        "## Recursive Depth First Search\n",
        "\n",
        "Depth First Search continues to tread a path as long as there is an available child node. When a child node can no longer be found, it traverses back until it finds a node with a child node/s and then treads that path again as long as there is an available child node. This process is repeated until no more child nodes are found."
      ]
    },
    {
      "cell_type": "code",
      "metadata": {
        "colab": {
          "base_uri": "https://localhost:8080/"
        },
        "id": "hSHVXX3ehhOq",
        "outputId": "3e54882c-0e1d-472c-87e0-61f640f41d5b"
      },
      "source": [
        "print(f\"initializing traversal at [{init_loc_hz}][{init_loc_vt}]\\n\")\n",
        "\n",
        "def explore_adjacent_vertices(i, j, c):\n",
        "  if \"VAX!\" in graph[i][j]:\n",
        "    print(f\"VAX FOUND at [{i}][{j}], steps = {c}\")\n",
        "    return  \n",
        "\n",
        "  if \"EXPLORED\" in graph[i][j]:\n",
        "    print(f\"[{i}][{j}] has been explored, terminating this branch\")\n",
        "    return\n",
        "\n",
        "  else:   \n",
        "    label_as_explored(i, j)\n",
        "    c += 1\n",
        "\n",
        "    k = [-1, 1]\n",
        "    l = [-1, 1]\n",
        "\n",
        "    if not graph[i][j]:\n",
        "      pass\n",
        "    if \"UP\" in graph[i][j]:\n",
        "      k.remove(-1)\n",
        "    if \"DOWN\" in graph[i][j]:\n",
        "      k.remove(1)\n",
        "    if \"LEFT\" in graph[i][j]:\n",
        "      l.remove(-1)\n",
        "    if \"RIGHT\" in graph[i][j]:\n",
        "      l.remove(1)\n",
        "\n",
        "    for m in k:\n",
        "      print(f\"at [{i}][{j}] trying to go to [{i+m}][{j}]\")\n",
        "      explore_adjacent_vertices(i+m, j, c)\n",
        "    \n",
        "    for n in l:\n",
        "      print(f\"at [{i}][{j}] trying to go to [{i}][{j+n}]\")\n",
        "      explore_adjacent_vertices(i, j+n, c)\n",
        "\n",
        "def label_as_explored(i, j):\n",
        "  graph[i][j].append(\"EXPLORED\")\n",
        "\n",
        "\n",
        "explore_adjacent_vertices(init_loc_hz, init_loc_vt, 0)"
      ],
      "execution_count": null,
      "outputs": [
        {
          "output_type": "stream",
          "text": [
            "initializing traversal at [1][2]\n",
            "\n",
            "at [1][2] trying to go to [0][2]\n",
            "at [0][2] trying to go to [1][2]\n",
            "[1][2] has been explored, terminating this branch\n",
            "at [1][2] trying to go to [2][2]\n",
            "VAX FOUND at [2][2], steps = 1\n",
            "at [1][2] trying to go to [1][1]\n",
            "at [1][1] trying to go to [2][1]\n",
            "at [2][1] trying to go to [1][1]\n",
            "[1][1] has been explored, terminating this branch\n",
            "at [2][1] trying to go to [2][2]\n",
            "VAX FOUND at [2][2], steps = 3\n",
            "at [1][1] trying to go to [1][0]\n",
            "at [1][0] trying to go to [0][0]\n",
            "at [0][0] trying to go to [1][0]\n",
            "[1][0] has been explored, terminating this branch\n",
            "at [1][0] trying to go to [1][1]\n",
            "[1][1] has been explored, terminating this branch\n",
            "at [1][1] trying to go to [1][2]\n",
            "[1][2] has been explored, terminating this branch\n"
          ],
          "name": "stdout"
        }
      ]
    },
    {
      "cell_type": "code",
      "metadata": {
        "id": "r9oqsZXhCtvu"
      },
      "source": [
        "graph_df, board_df = convert_to_pandas(graph, board)"
      ],
      "execution_count": null,
      "outputs": []
    },
    {
      "cell_type": "code",
      "metadata": {
        "colab": {
          "base_uri": "https://localhost:8080/",
          "height": 141
        },
        "id": "EfMZnzLxD-3o",
        "outputId": "e948ef59-1dd6-4b06-a50b-0808f8448519"
      },
      "source": [
        "board_df"
      ],
      "execution_count": null,
      "outputs": [
        {
          "output_type": "execute_result",
          "data": {
            "text/html": [
              "<div>\n",
              "<style scoped>\n",
              "    .dataframe tbody tr th:only-of-type {\n",
              "        vertical-align: middle;\n",
              "    }\n",
              "\n",
              "    .dataframe tbody tr th {\n",
              "        vertical-align: top;\n",
              "    }\n",
              "\n",
              "    .dataframe thead th {\n",
              "        text-align: right;\n",
              "    }\n",
              "</style>\n",
              "<table border=\"1\" class=\"dataframe\">\n",
              "  <thead>\n",
              "    <tr style=\"text-align: right;\">\n",
              "      <th></th>\n",
              "      <th>0</th>\n",
              "      <th>1</th>\n",
              "      <th>2</th>\n",
              "    </tr>\n",
              "  </thead>\n",
              "  <tbody>\n",
              "    <tr>\n",
              "      <th>0</th>\n",
              "      <td>0</td>\n",
              "      <td>1</td>\n",
              "      <td>0</td>\n",
              "    </tr>\n",
              "    <tr>\n",
              "      <th>1</th>\n",
              "      <td>0</td>\n",
              "      <td>0</td>\n",
              "      <td>0</td>\n",
              "    </tr>\n",
              "    <tr>\n",
              "      <th>2</th>\n",
              "      <td>1</td>\n",
              "      <td>0</td>\n",
              "      <td>2</td>\n",
              "    </tr>\n",
              "  </tbody>\n",
              "</table>\n",
              "</div>"
            ],
            "text/plain": [
              "   0  1  2\n",
              "0  0  1  0\n",
              "1  0  0  0\n",
              "2  1  0  2"
            ]
          },
          "metadata": {
            "tags": []
          },
          "execution_count": 12
        }
      ]
    },
    {
      "cell_type": "code",
      "metadata": {
        "colab": {
          "base_uri": "https://localhost:8080/",
          "height": 141
        },
        "id": "4EgvCx3rEA7a",
        "outputId": "992832b7-b734-431c-d047-066224fdba2f"
      },
      "source": [
        "graph_df"
      ],
      "execution_count": null,
      "outputs": [
        {
          "output_type": "execute_result",
          "data": {
            "text/html": [
              "<div>\n",
              "<style scoped>\n",
              "    .dataframe tbody tr th:only-of-type {\n",
              "        vertical-align: middle;\n",
              "    }\n",
              "\n",
              "    .dataframe tbody tr th {\n",
              "        vertical-align: top;\n",
              "    }\n",
              "\n",
              "    .dataframe thead th {\n",
              "        text-align: right;\n",
              "    }\n",
              "</style>\n",
              "<table border=\"1\" class=\"dataframe\">\n",
              "  <thead>\n",
              "    <tr style=\"text-align: right;\">\n",
              "      <th></th>\n",
              "      <th>0</th>\n",
              "      <th>1</th>\n",
              "      <th>2</th>\n",
              "    </tr>\n",
              "  </thead>\n",
              "  <tbody>\n",
              "    <tr>\n",
              "      <th>0</th>\n",
              "      <td>[UP, LEFT, RIGHT, EXPLORED]</td>\n",
              "      <td>[UP]</td>\n",
              "      <td>[UP, LEFT, RIGHT, EXPLORED]</td>\n",
              "    </tr>\n",
              "    <tr>\n",
              "      <th>1</th>\n",
              "      <td>[DOWN, LEFT, EXPLORED]</td>\n",
              "      <td>[UP, EXPLORED]</td>\n",
              "      <td>[RIGHT, EXPLORED]</td>\n",
              "    </tr>\n",
              "    <tr>\n",
              "      <th>2</th>\n",
              "      <td>[DOWN, LEFT]</td>\n",
              "      <td>[DOWN, LEFT, EXPLORED]</td>\n",
              "      <td>[DOWN, RIGHT, VAX!]</td>\n",
              "    </tr>\n",
              "  </tbody>\n",
              "</table>\n",
              "</div>"
            ],
            "text/plain": [
              "                             0  ...                            2\n",
              "0  [UP, LEFT, RIGHT, EXPLORED]  ...  [UP, LEFT, RIGHT, EXPLORED]\n",
              "1       [DOWN, LEFT, EXPLORED]  ...            [RIGHT, EXPLORED]\n",
              "2                 [DOWN, LEFT]  ...          [DOWN, RIGHT, VAX!]\n",
              "\n",
              "[3 rows x 3 columns]"
            ]
          },
          "metadata": {
            "tags": []
          },
          "execution_count": 13
        }
      ]
    },
    {
      "cell_type": "markdown",
      "metadata": {
        "id": "Uuu3tboGsZgn"
      },
      "source": [
        "## Breadth First Search\n",
        "\n",
        "Breadth First Search traverses the game world like climbing down a tree from its root. That is, it scans for possible children nodes through all the nodes in one layer of the tree and places those in memory. With the list of new children nodes, it repeats the process until no more children nodes are found.\n",
        "\n",
        "In this implementation, information about children nodes is found in the list named new_check."
      ]
    },
    {
      "cell_type": "code",
      "metadata": {
        "id": "PpkAHJEThhRG"
      },
      "source": [
        "#reset variables\n",
        "board, graph = [], []\n",
        "init_tables()\n",
        "init_board_notation()\n",
        "init_graph_notation()"
      ],
      "execution_count": null,
      "outputs": []
    },
    {
      "cell_type": "code",
      "metadata": {
        "id": "fEUZ4sd1hhTp"
      },
      "source": [
        "def col_c_nodes(i, j): \n",
        "  \"\"\"\n",
        "  collects child nodes \n",
        "  \"\"\"\n",
        "  c_nodes = []\n",
        "  \n",
        "  if \"VAX!\" in graph[i][j]:\n",
        "    print(f\"VAX FOUND at [{i}][{j}]\\n\")  \n",
        "    return\n",
        "\n",
        "  if \"EXPLORED\" in graph[i][j]:\n",
        "    return\n",
        "\n",
        "  else:\n",
        "    label_as_explored(i, j)\n",
        "\n",
        "    k = [-1, 1]\n",
        "    l = [-1, 1]\n",
        "\n",
        "    if not graph[i][j]:\n",
        "      pass\n",
        "    if \"UP\" in graph[i][j]:\n",
        "      k.remove(-1)\n",
        "    if \"DOWN\" in graph[i][j]:\n",
        "      k.remove(1)\n",
        "    if \"LEFT\" in graph[i][j]:\n",
        "      l.remove(-1)\n",
        "    if \"RIGHT\" in graph[i][j]:\n",
        "      l.remove(1)\n",
        "     \n",
        "    for m in k:\n",
        "\n",
        "      if \"EXPLORED\" in graph[i+m][j]:\n",
        "        print(f\"at [{i}][{j}] trying to go to [{i+m}][{j}]\")\n",
        "        print(f\"[{i+m}][{j}] has already been explored, terminating this branch\\n\")\n",
        "      else:\n",
        "        print(f\"at [{i}][{j}] trying to go to [{i+m}][{j}]\\n\")\n",
        "        c_nodes.append([i+m, j])\n",
        "      \n",
        "    for n in l:\n",
        "\n",
        "      if \"EXPLORED\" in graph[i][j+n]:\n",
        "        print(f\"at [{i}][{j}] trying to go to [{i}][{j+n}]\")\n",
        "        print(f\"[{i}][{j+n}] has already been explored, terminating this branch\\n\")\n",
        "      else:\n",
        "        print(f\"at [{i}][{j}] trying to go to [{i}][{j+n}]\\n\")\n",
        "        c_nodes.append([i, j+n])\n",
        "\n",
        "    return c_nodes\n",
        "\n",
        "def label_as_explored(i, j):\n",
        "  graph[i][j].append(\"EXPLORED\")\n",
        "\n"
      ],
      "execution_count": null,
      "outputs": []
    },
    {
      "cell_type": "code",
      "metadata": {
        "colab": {
          "base_uri": "https://localhost:8080/"
        },
        "id": "mYpFZYcZZYet",
        "outputId": "86c438f5-1cd5-4c5d-9f19-a0e1116dba5b"
      },
      "source": [
        "print(f\"initializing traversal at [{init_loc_hz}][{init_loc_vt}]\\n\")\n",
        "c_nodes = col_c_nodes(init_loc_hz, init_loc_vt)\n",
        "\n",
        "to_check = []\n",
        "new_check = c_nodes\n",
        "steps = 0\n",
        "\n",
        "while new_check:\n",
        "  print(f\"\\n------------------------------- step: {steps}\\n\")\n",
        "  steps += 1\n",
        "  to_check = new_check\n",
        "  new_check = []\n",
        "  for node in to_check:\n",
        "      c_nodes = col_c_nodes(node[0], node[1])\n",
        "      \n",
        "      if c_nodes:\n",
        "        for i in c_nodes:\n",
        "          if i not in to_check:\n",
        "            new_check.append(i)\n"
      ],
      "execution_count": null,
      "outputs": [
        {
          "output_type": "stream",
          "text": [
            "initializing traversal at [1][2]\n",
            "\n",
            "at [1][2] trying to go to [0][2]\n",
            "\n",
            "at [1][2] trying to go to [2][2]\n",
            "\n",
            "at [1][2] trying to go to [1][1]\n",
            "\n",
            "\n",
            "------------------------------- step: 0\n",
            "\n",
            "at [0][2] trying to go to [1][2]\n",
            "[1][2] has already been explored, terminating this branch\n",
            "\n",
            "VAX FOUND at [2][2]\n",
            "\n",
            "at [1][1] trying to go to [2][1]\n",
            "\n",
            "at [1][1] trying to go to [1][0]\n",
            "\n",
            "at [1][1] trying to go to [1][2]\n",
            "[1][2] has already been explored, terminating this branch\n",
            "\n",
            "\n",
            "------------------------------- step: 1\n",
            "\n",
            "at [2][1] trying to go to [1][1]\n",
            "[1][1] has already been explored, terminating this branch\n",
            "\n",
            "at [2][1] trying to go to [2][2]\n",
            "\n",
            "at [1][0] trying to go to [0][0]\n",
            "\n",
            "at [1][0] trying to go to [1][1]\n",
            "[1][1] has already been explored, terminating this branch\n",
            "\n",
            "\n",
            "------------------------------- step: 2\n",
            "\n",
            "VAX FOUND at [2][2]\n",
            "\n",
            "at [0][0] trying to go to [1][0]\n",
            "[1][0] has already been explored, terminating this branch\n",
            "\n"
          ],
          "name": "stdout"
        }
      ]
    }
  ]
}